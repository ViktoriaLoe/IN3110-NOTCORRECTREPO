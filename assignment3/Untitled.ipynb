{
 "cells": [
  {
   "cell_type": "code",
   "execution_count": null,
   "id": "05d7e802",
   "metadata": {},
   "outputs": [],
   "source": [
    "array = [25, 0, 24.3]\n",
    "array_new = float(array)\n",
    "print(array_new)"
   ]
  },
  {
   "cell_type": "code",
   "execution_count": null,
   "id": "0b5566ba",
   "metadata": {},
   "outputs": [],
   "source": [
    "print(\"HELLO\")"
   ]
  },
  {
   "cell_type": "code",
   "execution_count": null,
   "id": "4bd23764",
   "metadata": {},
   "outputs": [],
   "source": []
  }
 ],
 "metadata": {
  "kernelspec": {
   "display_name": "Python 3 (ipykernel)",
   "language": "python",
   "name": "python3"
  }
 },
 "nbformat": 4,
 "nbformat_minor": 5
}
